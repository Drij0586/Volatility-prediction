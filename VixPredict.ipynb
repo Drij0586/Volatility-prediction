{
  "nbformat": 4,
  "nbformat_minor": 0,
  "metadata": {
    "colab": {
      "provenance": [],
      "authorship_tag": "ABX9TyOcv7oGbdZXHBi5E25u8lk1",
      "include_colab_link": true
    },
    "kernelspec": {
      "name": "python3",
      "display_name": "Python 3"
    },
    "language_info": {
      "name": "python"
    }
  },
  "cells": [
    {
      "cell_type": "markdown",
      "metadata": {
        "id": "view-in-github",
        "colab_type": "text"
      },
      "source": [
        "<a href=\"https://colab.research.google.com/github/Drij0586/Volatility-prediction/blob/main/VixPredict.ipynb\" target=\"_parent\"><img src=\"https://colab.research.google.com/assets/colab-badge.svg\" alt=\"Open In Colab\"/></a>"
      ]
    },
    {
      "cell_type": "code",
      "execution_count": 98,
      "metadata": {
        "colab": {
          "base_uri": "https://localhost:8080/"
        },
        "id": "gZCIxcrMO-vp",
        "outputId": "d9247db8-e915-4c37-a946-8085091b37fc"
      },
      "outputs": [
        {
          "output_type": "stream",
          "name": "stdout",
          "text": [
            "Looking in indexes: https://pypi.org/simple, https://us-python.pkg.dev/colab-wheels/public/simple/\n",
            "Requirement already satisfied: nsepy in /usr/local/lib/python3.8/dist-packages (0.8)\n",
            "Requirement already satisfied: numpy in /usr/local/lib/python3.8/dist-packages (from nsepy) (1.21.6)\n",
            "Requirement already satisfied: beautifulsoup4 in /usr/local/lib/python3.8/dist-packages (from nsepy) (4.6.3)\n",
            "Requirement already satisfied: pandas in /usr/local/lib/python3.8/dist-packages (from nsepy) (1.3.5)\n",
            "Requirement already satisfied: six in /usr/local/lib/python3.8/dist-packages (from nsepy) (1.15.0)\n",
            "Requirement already satisfied: lxml in /usr/local/lib/python3.8/dist-packages (from nsepy) (4.9.1)\n",
            "Requirement already satisfied: click in /usr/local/lib/python3.8/dist-packages (from nsepy) (7.1.2)\n",
            "Requirement already satisfied: requests in /usr/local/lib/python3.8/dist-packages (from nsepy) (2.23.0)\n",
            "Requirement already satisfied: pytz>=2017.3 in /usr/local/lib/python3.8/dist-packages (from pandas->nsepy) (2022.6)\n",
            "Requirement already satisfied: python-dateutil>=2.7.3 in /usr/local/lib/python3.8/dist-packages (from pandas->nsepy) (2.8.2)\n",
            "Requirement already satisfied: idna<3,>=2.5 in /usr/local/lib/python3.8/dist-packages (from requests->nsepy) (2.10)\n",
            "Requirement already satisfied: urllib3!=1.25.0,!=1.25.1,<1.26,>=1.21.1 in /usr/local/lib/python3.8/dist-packages (from requests->nsepy) (1.24.3)\n",
            "Requirement already satisfied: certifi>=2017.4.17 in /usr/local/lib/python3.8/dist-packages (from requests->nsepy) (2022.9.24)\n",
            "Requirement already satisfied: chardet<4,>=3.0.2 in /usr/local/lib/python3.8/dist-packages (from requests->nsepy) (3.0.4)\n"
          ]
        }
      ],
      "source": [
        "pip install nsepy"
      ]
    },
    {
      "cell_type": "code",
      "source": [
        "import nsepy as nse\n",
        "from datetime import date\n",
        "import pandas as pd\n",
        "import numpy as np"
      ],
      "metadata": {
        "id": "wGyRYxjOPFTu"
      },
      "execution_count": 99,
      "outputs": []
    },
    {
      "cell_type": "code",
      "source": [
        "df = nse.get_history(symbol = 'VIX' , index = True , start = date(2020,1,1) , end = date(2022,11,1))"
      ],
      "metadata": {
        "id": "wD51vCfMPf-e"
      },
      "execution_count": 100,
      "outputs": []
    },
    {
      "cell_type": "code",
      "source": [
        "df"
      ],
      "metadata": {
        "colab": {
          "base_uri": "https://localhost:8080/",
          "height": 455
        },
        "id": "fncOLzdGQqzi",
        "outputId": "56775765-2865-4228-dfad-5d57d2a68236"
      },
      "execution_count": 101,
      "outputs": [
        {
          "output_type": "execute_result",
          "data": {
            "text/plain": [
              "             Open   High    Low  Close  Volume  Turnover\n",
              "Date                                                    \n",
              "2020-01-01  11.67  11.73  11.09  11.60     NaN       NaN\n",
              "2020-01-02  11.60  11.70  10.73  11.49     NaN       NaN\n",
              "2020-01-03  11.49  12.94  10.69  12.70     NaN       NaN\n",
              "2020-01-06  12.70  15.10  12.70  14.78     NaN       NaN\n",
              "2020-01-07  14.78  14.91  14.46  14.61     NaN       NaN\n",
              "...           ...    ...    ...    ...     ...       ...\n",
              "2022-10-25  17.42  17.62  16.49  16.88     NaN       NaN\n",
              "2022-10-27  16.88  17.07  14.79  16.60     NaN       NaN\n",
              "2022-10-28  16.60  17.04  15.85  15.92     NaN       NaN\n",
              "2022-10-31  15.92  16.63  15.07  15.80     NaN       NaN\n",
              "2022-11-01  15.80  16.20  15.11  16.13     NaN       NaN\n",
              "\n",
              "[706 rows x 6 columns]"
            ],
            "text/html": [
              "\n",
              "  <div id=\"df-51258b5b-5251-496f-be3a-ee9a6b068a9e\">\n",
              "    <div class=\"colab-df-container\">\n",
              "      <div>\n",
              "<style scoped>\n",
              "    .dataframe tbody tr th:only-of-type {\n",
              "        vertical-align: middle;\n",
              "    }\n",
              "\n",
              "    .dataframe tbody tr th {\n",
              "        vertical-align: top;\n",
              "    }\n",
              "\n",
              "    .dataframe thead th {\n",
              "        text-align: right;\n",
              "    }\n",
              "</style>\n",
              "<table border=\"1\" class=\"dataframe\">\n",
              "  <thead>\n",
              "    <tr style=\"text-align: right;\">\n",
              "      <th></th>\n",
              "      <th>Open</th>\n",
              "      <th>High</th>\n",
              "      <th>Low</th>\n",
              "      <th>Close</th>\n",
              "      <th>Volume</th>\n",
              "      <th>Turnover</th>\n",
              "    </tr>\n",
              "    <tr>\n",
              "      <th>Date</th>\n",
              "      <th></th>\n",
              "      <th></th>\n",
              "      <th></th>\n",
              "      <th></th>\n",
              "      <th></th>\n",
              "      <th></th>\n",
              "    </tr>\n",
              "  </thead>\n",
              "  <tbody>\n",
              "    <tr>\n",
              "      <th>2020-01-01</th>\n",
              "      <td>11.67</td>\n",
              "      <td>11.73</td>\n",
              "      <td>11.09</td>\n",
              "      <td>11.60</td>\n",
              "      <td>NaN</td>\n",
              "      <td>NaN</td>\n",
              "    </tr>\n",
              "    <tr>\n",
              "      <th>2020-01-02</th>\n",
              "      <td>11.60</td>\n",
              "      <td>11.70</td>\n",
              "      <td>10.73</td>\n",
              "      <td>11.49</td>\n",
              "      <td>NaN</td>\n",
              "      <td>NaN</td>\n",
              "    </tr>\n",
              "    <tr>\n",
              "      <th>2020-01-03</th>\n",
              "      <td>11.49</td>\n",
              "      <td>12.94</td>\n",
              "      <td>10.69</td>\n",
              "      <td>12.70</td>\n",
              "      <td>NaN</td>\n",
              "      <td>NaN</td>\n",
              "    </tr>\n",
              "    <tr>\n",
              "      <th>2020-01-06</th>\n",
              "      <td>12.70</td>\n",
              "      <td>15.10</td>\n",
              "      <td>12.70</td>\n",
              "      <td>14.78</td>\n",
              "      <td>NaN</td>\n",
              "      <td>NaN</td>\n",
              "    </tr>\n",
              "    <tr>\n",
              "      <th>2020-01-07</th>\n",
              "      <td>14.78</td>\n",
              "      <td>14.91</td>\n",
              "      <td>14.46</td>\n",
              "      <td>14.61</td>\n",
              "      <td>NaN</td>\n",
              "      <td>NaN</td>\n",
              "    </tr>\n",
              "    <tr>\n",
              "      <th>...</th>\n",
              "      <td>...</td>\n",
              "      <td>...</td>\n",
              "      <td>...</td>\n",
              "      <td>...</td>\n",
              "      <td>...</td>\n",
              "      <td>...</td>\n",
              "    </tr>\n",
              "    <tr>\n",
              "      <th>2022-10-25</th>\n",
              "      <td>17.42</td>\n",
              "      <td>17.62</td>\n",
              "      <td>16.49</td>\n",
              "      <td>16.88</td>\n",
              "      <td>NaN</td>\n",
              "      <td>NaN</td>\n",
              "    </tr>\n",
              "    <tr>\n",
              "      <th>2022-10-27</th>\n",
              "      <td>16.88</td>\n",
              "      <td>17.07</td>\n",
              "      <td>14.79</td>\n",
              "      <td>16.60</td>\n",
              "      <td>NaN</td>\n",
              "      <td>NaN</td>\n",
              "    </tr>\n",
              "    <tr>\n",
              "      <th>2022-10-28</th>\n",
              "      <td>16.60</td>\n",
              "      <td>17.04</td>\n",
              "      <td>15.85</td>\n",
              "      <td>15.92</td>\n",
              "      <td>NaN</td>\n",
              "      <td>NaN</td>\n",
              "    </tr>\n",
              "    <tr>\n",
              "      <th>2022-10-31</th>\n",
              "      <td>15.92</td>\n",
              "      <td>16.63</td>\n",
              "      <td>15.07</td>\n",
              "      <td>15.80</td>\n",
              "      <td>NaN</td>\n",
              "      <td>NaN</td>\n",
              "    </tr>\n",
              "    <tr>\n",
              "      <th>2022-11-01</th>\n",
              "      <td>15.80</td>\n",
              "      <td>16.20</td>\n",
              "      <td>15.11</td>\n",
              "      <td>16.13</td>\n",
              "      <td>NaN</td>\n",
              "      <td>NaN</td>\n",
              "    </tr>\n",
              "  </tbody>\n",
              "</table>\n",
              "<p>706 rows × 6 columns</p>\n",
              "</div>\n",
              "      <button class=\"colab-df-convert\" onclick=\"convertToInteractive('df-51258b5b-5251-496f-be3a-ee9a6b068a9e')\"\n",
              "              title=\"Convert this dataframe to an interactive table.\"\n",
              "              style=\"display:none;\">\n",
              "        \n",
              "  <svg xmlns=\"http://www.w3.org/2000/svg\" height=\"24px\"viewBox=\"0 0 24 24\"\n",
              "       width=\"24px\">\n",
              "    <path d=\"M0 0h24v24H0V0z\" fill=\"none\"/>\n",
              "    <path d=\"M18.56 5.44l.94 2.06.94-2.06 2.06-.94-2.06-.94-.94-2.06-.94 2.06-2.06.94zm-11 1L8.5 8.5l.94-2.06 2.06-.94-2.06-.94L8.5 2.5l-.94 2.06-2.06.94zm10 10l.94 2.06.94-2.06 2.06-.94-2.06-.94-.94-2.06-.94 2.06-2.06.94z\"/><path d=\"M17.41 7.96l-1.37-1.37c-.4-.4-.92-.59-1.43-.59-.52 0-1.04.2-1.43.59L10.3 9.45l-7.72 7.72c-.78.78-.78 2.05 0 2.83L4 21.41c.39.39.9.59 1.41.59.51 0 1.02-.2 1.41-.59l7.78-7.78 2.81-2.81c.8-.78.8-2.07 0-2.86zM5.41 20L4 18.59l7.72-7.72 1.47 1.35L5.41 20z\"/>\n",
              "  </svg>\n",
              "      </button>\n",
              "      \n",
              "  <style>\n",
              "    .colab-df-container {\n",
              "      display:flex;\n",
              "      flex-wrap:wrap;\n",
              "      gap: 12px;\n",
              "    }\n",
              "\n",
              "    .colab-df-convert {\n",
              "      background-color: #E8F0FE;\n",
              "      border: none;\n",
              "      border-radius: 50%;\n",
              "      cursor: pointer;\n",
              "      display: none;\n",
              "      fill: #1967D2;\n",
              "      height: 32px;\n",
              "      padding: 0 0 0 0;\n",
              "      width: 32px;\n",
              "    }\n",
              "\n",
              "    .colab-df-convert:hover {\n",
              "      background-color: #E2EBFA;\n",
              "      box-shadow: 0px 1px 2px rgba(60, 64, 67, 0.3), 0px 1px 3px 1px rgba(60, 64, 67, 0.15);\n",
              "      fill: #174EA6;\n",
              "    }\n",
              "\n",
              "    [theme=dark] .colab-df-convert {\n",
              "      background-color: #3B4455;\n",
              "      fill: #D2E3FC;\n",
              "    }\n",
              "\n",
              "    [theme=dark] .colab-df-convert:hover {\n",
              "      background-color: #434B5C;\n",
              "      box-shadow: 0px 1px 3px 1px rgba(0, 0, 0, 0.15);\n",
              "      filter: drop-shadow(0px 1px 2px rgba(0, 0, 0, 0.3));\n",
              "      fill: #FFFFFF;\n",
              "    }\n",
              "  </style>\n",
              "\n",
              "      <script>\n",
              "        const buttonEl =\n",
              "          document.querySelector('#df-51258b5b-5251-496f-be3a-ee9a6b068a9e button.colab-df-convert');\n",
              "        buttonEl.style.display =\n",
              "          google.colab.kernel.accessAllowed ? 'block' : 'none';\n",
              "\n",
              "        async function convertToInteractive(key) {\n",
              "          const element = document.querySelector('#df-51258b5b-5251-496f-be3a-ee9a6b068a9e');\n",
              "          const dataTable =\n",
              "            await google.colab.kernel.invokeFunction('convertToInteractive',\n",
              "                                                     [key], {});\n",
              "          if (!dataTable) return;\n",
              "\n",
              "          const docLinkHtml = 'Like what you see? Visit the ' +\n",
              "            '<a target=\"_blank\" href=https://colab.research.google.com/notebooks/data_table.ipynb>data table notebook</a>'\n",
              "            + ' to learn more about interactive tables.';\n",
              "          element.innerHTML = '';\n",
              "          dataTable['output_type'] = 'display_data';\n",
              "          await google.colab.output.renderOutput(dataTable, element);\n",
              "          const docLink = document.createElement('div');\n",
              "          docLink.innerHTML = docLinkHtml;\n",
              "          element.appendChild(docLink);\n",
              "        }\n",
              "      </script>\n",
              "    </div>\n",
              "  </div>\n",
              "  "
            ]
          },
          "metadata": {},
          "execution_count": 101
        }
      ]
    },
    {
      "cell_type": "code",
      "source": [
        "\n",
        "df.head()"
      ],
      "metadata": {
        "colab": {
          "base_uri": "https://localhost:8080/",
          "height": 237
        },
        "id": "GPeflm8FhV2R",
        "outputId": "5aad10d0-8301-4ab9-b498-c3162d5331ec"
      },
      "execution_count": 102,
      "outputs": [
        {
          "output_type": "execute_result",
          "data": {
            "text/plain": [
              "             Open   High    Low  Close  Volume  Turnover\n",
              "Date                                                    \n",
              "2020-01-01  11.67  11.73  11.09  11.60     NaN       NaN\n",
              "2020-01-02  11.60  11.70  10.73  11.49     NaN       NaN\n",
              "2020-01-03  11.49  12.94  10.69  12.70     NaN       NaN\n",
              "2020-01-06  12.70  15.10  12.70  14.78     NaN       NaN\n",
              "2020-01-07  14.78  14.91  14.46  14.61     NaN       NaN"
            ],
            "text/html": [
              "\n",
              "  <div id=\"df-d0574465-83ed-407e-8ca5-057c8025e1d3\">\n",
              "    <div class=\"colab-df-container\">\n",
              "      <div>\n",
              "<style scoped>\n",
              "    .dataframe tbody tr th:only-of-type {\n",
              "        vertical-align: middle;\n",
              "    }\n",
              "\n",
              "    .dataframe tbody tr th {\n",
              "        vertical-align: top;\n",
              "    }\n",
              "\n",
              "    .dataframe thead th {\n",
              "        text-align: right;\n",
              "    }\n",
              "</style>\n",
              "<table border=\"1\" class=\"dataframe\">\n",
              "  <thead>\n",
              "    <tr style=\"text-align: right;\">\n",
              "      <th></th>\n",
              "      <th>Open</th>\n",
              "      <th>High</th>\n",
              "      <th>Low</th>\n",
              "      <th>Close</th>\n",
              "      <th>Volume</th>\n",
              "      <th>Turnover</th>\n",
              "    </tr>\n",
              "    <tr>\n",
              "      <th>Date</th>\n",
              "      <th></th>\n",
              "      <th></th>\n",
              "      <th></th>\n",
              "      <th></th>\n",
              "      <th></th>\n",
              "      <th></th>\n",
              "    </tr>\n",
              "  </thead>\n",
              "  <tbody>\n",
              "    <tr>\n",
              "      <th>2020-01-01</th>\n",
              "      <td>11.67</td>\n",
              "      <td>11.73</td>\n",
              "      <td>11.09</td>\n",
              "      <td>11.60</td>\n",
              "      <td>NaN</td>\n",
              "      <td>NaN</td>\n",
              "    </tr>\n",
              "    <tr>\n",
              "      <th>2020-01-02</th>\n",
              "      <td>11.60</td>\n",
              "      <td>11.70</td>\n",
              "      <td>10.73</td>\n",
              "      <td>11.49</td>\n",
              "      <td>NaN</td>\n",
              "      <td>NaN</td>\n",
              "    </tr>\n",
              "    <tr>\n",
              "      <th>2020-01-03</th>\n",
              "      <td>11.49</td>\n",
              "      <td>12.94</td>\n",
              "      <td>10.69</td>\n",
              "      <td>12.70</td>\n",
              "      <td>NaN</td>\n",
              "      <td>NaN</td>\n",
              "    </tr>\n",
              "    <tr>\n",
              "      <th>2020-01-06</th>\n",
              "      <td>12.70</td>\n",
              "      <td>15.10</td>\n",
              "      <td>12.70</td>\n",
              "      <td>14.78</td>\n",
              "      <td>NaN</td>\n",
              "      <td>NaN</td>\n",
              "    </tr>\n",
              "    <tr>\n",
              "      <th>2020-01-07</th>\n",
              "      <td>14.78</td>\n",
              "      <td>14.91</td>\n",
              "      <td>14.46</td>\n",
              "      <td>14.61</td>\n",
              "      <td>NaN</td>\n",
              "      <td>NaN</td>\n",
              "    </tr>\n",
              "  </tbody>\n",
              "</table>\n",
              "</div>\n",
              "      <button class=\"colab-df-convert\" onclick=\"convertToInteractive('df-d0574465-83ed-407e-8ca5-057c8025e1d3')\"\n",
              "              title=\"Convert this dataframe to an interactive table.\"\n",
              "              style=\"display:none;\">\n",
              "        \n",
              "  <svg xmlns=\"http://www.w3.org/2000/svg\" height=\"24px\"viewBox=\"0 0 24 24\"\n",
              "       width=\"24px\">\n",
              "    <path d=\"M0 0h24v24H0V0z\" fill=\"none\"/>\n",
              "    <path d=\"M18.56 5.44l.94 2.06.94-2.06 2.06-.94-2.06-.94-.94-2.06-.94 2.06-2.06.94zm-11 1L8.5 8.5l.94-2.06 2.06-.94-2.06-.94L8.5 2.5l-.94 2.06-2.06.94zm10 10l.94 2.06.94-2.06 2.06-.94-2.06-.94-.94-2.06-.94 2.06-2.06.94z\"/><path d=\"M17.41 7.96l-1.37-1.37c-.4-.4-.92-.59-1.43-.59-.52 0-1.04.2-1.43.59L10.3 9.45l-7.72 7.72c-.78.78-.78 2.05 0 2.83L4 21.41c.39.39.9.59 1.41.59.51 0 1.02-.2 1.41-.59l7.78-7.78 2.81-2.81c.8-.78.8-2.07 0-2.86zM5.41 20L4 18.59l7.72-7.72 1.47 1.35L5.41 20z\"/>\n",
              "  </svg>\n",
              "      </button>\n",
              "      \n",
              "  <style>\n",
              "    .colab-df-container {\n",
              "      display:flex;\n",
              "      flex-wrap:wrap;\n",
              "      gap: 12px;\n",
              "    }\n",
              "\n",
              "    .colab-df-convert {\n",
              "      background-color: #E8F0FE;\n",
              "      border: none;\n",
              "      border-radius: 50%;\n",
              "      cursor: pointer;\n",
              "      display: none;\n",
              "      fill: #1967D2;\n",
              "      height: 32px;\n",
              "      padding: 0 0 0 0;\n",
              "      width: 32px;\n",
              "    }\n",
              "\n",
              "    .colab-df-convert:hover {\n",
              "      background-color: #E2EBFA;\n",
              "      box-shadow: 0px 1px 2px rgba(60, 64, 67, 0.3), 0px 1px 3px 1px rgba(60, 64, 67, 0.15);\n",
              "      fill: #174EA6;\n",
              "    }\n",
              "\n",
              "    [theme=dark] .colab-df-convert {\n",
              "      background-color: #3B4455;\n",
              "      fill: #D2E3FC;\n",
              "    }\n",
              "\n",
              "    [theme=dark] .colab-df-convert:hover {\n",
              "      background-color: #434B5C;\n",
              "      box-shadow: 0px 1px 3px 1px rgba(0, 0, 0, 0.15);\n",
              "      filter: drop-shadow(0px 1px 2px rgba(0, 0, 0, 0.3));\n",
              "      fill: #FFFFFF;\n",
              "    }\n",
              "  </style>\n",
              "\n",
              "      <script>\n",
              "        const buttonEl =\n",
              "          document.querySelector('#df-d0574465-83ed-407e-8ca5-057c8025e1d3 button.colab-df-convert');\n",
              "        buttonEl.style.display =\n",
              "          google.colab.kernel.accessAllowed ? 'block' : 'none';\n",
              "\n",
              "        async function convertToInteractive(key) {\n",
              "          const element = document.querySelector('#df-d0574465-83ed-407e-8ca5-057c8025e1d3');\n",
              "          const dataTable =\n",
              "            await google.colab.kernel.invokeFunction('convertToInteractive',\n",
              "                                                     [key], {});\n",
              "          if (!dataTable) return;\n",
              "\n",
              "          const docLinkHtml = 'Like what you see? Visit the ' +\n",
              "            '<a target=\"_blank\" href=https://colab.research.google.com/notebooks/data_table.ipynb>data table notebook</a>'\n",
              "            + ' to learn more about interactive tables.';\n",
              "          element.innerHTML = '';\n",
              "          dataTable['output_type'] = 'display_data';\n",
              "          await google.colab.output.renderOutput(dataTable, element);\n",
              "          const docLink = document.createElement('div');\n",
              "          docLink.innerHTML = docLinkHtml;\n",
              "          element.appendChild(docLink);\n",
              "        }\n",
              "      </script>\n",
              "    </div>\n",
              "  </div>\n",
              "  "
            ]
          },
          "metadata": {},
          "execution_count": 102
        }
      ]
    },
    {
      "cell_type": "code",
      "source": [
        "df.drop(['Volume','Turnover'],axis = 1,inplace = True)"
      ],
      "metadata": {
        "id": "xxDog5E0hwRL"
      },
      "execution_count": 103,
      "outputs": []
    },
    {
      "cell_type": "code",
      "source": [
        "df.head()"
      ],
      "metadata": {
        "colab": {
          "base_uri": "https://localhost:8080/",
          "height": 237
        },
        "id": "MCMUWo2akDuH",
        "outputId": "74f61ab6-fc02-45a2-ca9e-ccaf287242ec"
      },
      "execution_count": 104,
      "outputs": [
        {
          "output_type": "execute_result",
          "data": {
            "text/plain": [
              "             Open   High    Low  Close\n",
              "Date                                  \n",
              "2020-01-01  11.67  11.73  11.09  11.60\n",
              "2020-01-02  11.60  11.70  10.73  11.49\n",
              "2020-01-03  11.49  12.94  10.69  12.70\n",
              "2020-01-06  12.70  15.10  12.70  14.78\n",
              "2020-01-07  14.78  14.91  14.46  14.61"
            ],
            "text/html": [
              "\n",
              "  <div id=\"df-82595fbe-56b5-46db-a5ce-5bc375e01c3e\">\n",
              "    <div class=\"colab-df-container\">\n",
              "      <div>\n",
              "<style scoped>\n",
              "    .dataframe tbody tr th:only-of-type {\n",
              "        vertical-align: middle;\n",
              "    }\n",
              "\n",
              "    .dataframe tbody tr th {\n",
              "        vertical-align: top;\n",
              "    }\n",
              "\n",
              "    .dataframe thead th {\n",
              "        text-align: right;\n",
              "    }\n",
              "</style>\n",
              "<table border=\"1\" class=\"dataframe\">\n",
              "  <thead>\n",
              "    <tr style=\"text-align: right;\">\n",
              "      <th></th>\n",
              "      <th>Open</th>\n",
              "      <th>High</th>\n",
              "      <th>Low</th>\n",
              "      <th>Close</th>\n",
              "    </tr>\n",
              "    <tr>\n",
              "      <th>Date</th>\n",
              "      <th></th>\n",
              "      <th></th>\n",
              "      <th></th>\n",
              "      <th></th>\n",
              "    </tr>\n",
              "  </thead>\n",
              "  <tbody>\n",
              "    <tr>\n",
              "      <th>2020-01-01</th>\n",
              "      <td>11.67</td>\n",
              "      <td>11.73</td>\n",
              "      <td>11.09</td>\n",
              "      <td>11.60</td>\n",
              "    </tr>\n",
              "    <tr>\n",
              "      <th>2020-01-02</th>\n",
              "      <td>11.60</td>\n",
              "      <td>11.70</td>\n",
              "      <td>10.73</td>\n",
              "      <td>11.49</td>\n",
              "    </tr>\n",
              "    <tr>\n",
              "      <th>2020-01-03</th>\n",
              "      <td>11.49</td>\n",
              "      <td>12.94</td>\n",
              "      <td>10.69</td>\n",
              "      <td>12.70</td>\n",
              "    </tr>\n",
              "    <tr>\n",
              "      <th>2020-01-06</th>\n",
              "      <td>12.70</td>\n",
              "      <td>15.10</td>\n",
              "      <td>12.70</td>\n",
              "      <td>14.78</td>\n",
              "    </tr>\n",
              "    <tr>\n",
              "      <th>2020-01-07</th>\n",
              "      <td>14.78</td>\n",
              "      <td>14.91</td>\n",
              "      <td>14.46</td>\n",
              "      <td>14.61</td>\n",
              "    </tr>\n",
              "  </tbody>\n",
              "</table>\n",
              "</div>\n",
              "      <button class=\"colab-df-convert\" onclick=\"convertToInteractive('df-82595fbe-56b5-46db-a5ce-5bc375e01c3e')\"\n",
              "              title=\"Convert this dataframe to an interactive table.\"\n",
              "              style=\"display:none;\">\n",
              "        \n",
              "  <svg xmlns=\"http://www.w3.org/2000/svg\" height=\"24px\"viewBox=\"0 0 24 24\"\n",
              "       width=\"24px\">\n",
              "    <path d=\"M0 0h24v24H0V0z\" fill=\"none\"/>\n",
              "    <path d=\"M18.56 5.44l.94 2.06.94-2.06 2.06-.94-2.06-.94-.94-2.06-.94 2.06-2.06.94zm-11 1L8.5 8.5l.94-2.06 2.06-.94-2.06-.94L8.5 2.5l-.94 2.06-2.06.94zm10 10l.94 2.06.94-2.06 2.06-.94-2.06-.94-.94-2.06-.94 2.06-2.06.94z\"/><path d=\"M17.41 7.96l-1.37-1.37c-.4-.4-.92-.59-1.43-.59-.52 0-1.04.2-1.43.59L10.3 9.45l-7.72 7.72c-.78.78-.78 2.05 0 2.83L4 21.41c.39.39.9.59 1.41.59.51 0 1.02-.2 1.41-.59l7.78-7.78 2.81-2.81c.8-.78.8-2.07 0-2.86zM5.41 20L4 18.59l7.72-7.72 1.47 1.35L5.41 20z\"/>\n",
              "  </svg>\n",
              "      </button>\n",
              "      \n",
              "  <style>\n",
              "    .colab-df-container {\n",
              "      display:flex;\n",
              "      flex-wrap:wrap;\n",
              "      gap: 12px;\n",
              "    }\n",
              "\n",
              "    .colab-df-convert {\n",
              "      background-color: #E8F0FE;\n",
              "      border: none;\n",
              "      border-radius: 50%;\n",
              "      cursor: pointer;\n",
              "      display: none;\n",
              "      fill: #1967D2;\n",
              "      height: 32px;\n",
              "      padding: 0 0 0 0;\n",
              "      width: 32px;\n",
              "    }\n",
              "\n",
              "    .colab-df-convert:hover {\n",
              "      background-color: #E2EBFA;\n",
              "      box-shadow: 0px 1px 2px rgba(60, 64, 67, 0.3), 0px 1px 3px 1px rgba(60, 64, 67, 0.15);\n",
              "      fill: #174EA6;\n",
              "    }\n",
              "\n",
              "    [theme=dark] .colab-df-convert {\n",
              "      background-color: #3B4455;\n",
              "      fill: #D2E3FC;\n",
              "    }\n",
              "\n",
              "    [theme=dark] .colab-df-convert:hover {\n",
              "      background-color: #434B5C;\n",
              "      box-shadow: 0px 1px 3px 1px rgba(0, 0, 0, 0.15);\n",
              "      filter: drop-shadow(0px 1px 2px rgba(0, 0, 0, 0.3));\n",
              "      fill: #FFFFFF;\n",
              "    }\n",
              "  </style>\n",
              "\n",
              "      <script>\n",
              "        const buttonEl =\n",
              "          document.querySelector('#df-82595fbe-56b5-46db-a5ce-5bc375e01c3e button.colab-df-convert');\n",
              "        buttonEl.style.display =\n",
              "          google.colab.kernel.accessAllowed ? 'block' : 'none';\n",
              "\n",
              "        async function convertToInteractive(key) {\n",
              "          const element = document.querySelector('#df-82595fbe-56b5-46db-a5ce-5bc375e01c3e');\n",
              "          const dataTable =\n",
              "            await google.colab.kernel.invokeFunction('convertToInteractive',\n",
              "                                                     [key], {});\n",
              "          if (!dataTable) return;\n",
              "\n",
              "          const docLinkHtml = 'Like what you see? Visit the ' +\n",
              "            '<a target=\"_blank\" href=https://colab.research.google.com/notebooks/data_table.ipynb>data table notebook</a>'\n",
              "            + ' to learn more about interactive tables.';\n",
              "          element.innerHTML = '';\n",
              "          dataTable['output_type'] = 'display_data';\n",
              "          await google.colab.output.renderOutput(dataTable, element);\n",
              "          const docLink = document.createElement('div');\n",
              "          docLink.innerHTML = docLinkHtml;\n",
              "          element.appendChild(docLink);\n",
              "        }\n",
              "      </script>\n",
              "    </div>\n",
              "  </div>\n",
              "  "
            ]
          },
          "metadata": {},
          "execution_count": 104
        }
      ]
    },
    {
      "cell_type": "code",
      "source": [
        "cls = df['Open']"
      ],
      "metadata": {
        "id": "N8E7tcGHkOJH"
      },
      "execution_count": 105,
      "outputs": []
    },
    {
      "cell_type": "code",
      "source": [
        "\n",
        "cls.plot()"
      ],
      "metadata": {
        "colab": {
          "base_uri": "https://localhost:8080/",
          "height": 297
        },
        "id": "CmWHDxzYzAJR",
        "outputId": "4335f58e-1d40-4144-9624-16f25278ea3d"
      },
      "execution_count": 106,
      "outputs": [
        {
          "output_type": "execute_result",
          "data": {
            "text/plain": [
              "<matplotlib.axes._subplots.AxesSubplot at 0x7f99abb55760>"
            ]
          },
          "metadata": {},
          "execution_count": 106
        },
        {
          "output_type": "display_data",
          "data": {
            "text/plain": [
              "<Figure size 432x288 with 1 Axes>"
            ],
            "image/png": "[encoded data removed]"
          },
          "metadata": {
            "needs_background": "light"
          }
        }
      ]
    },
    {
      "cell_type": "code",
      "source": [
        "cs = cls.values\n",
        "cls"
      ],
      "metadata": {
        "colab": {
          "base_uri": "https://localhost:8080/"
        },
        "id": "hUmjmaY9zqNw",
        "outputId": "a4bca9ba-6681-40a9-ff81-e57abaaebce4"
      },
      "execution_count": 107,
      "outputs": [
        {
          "output_type": "execute_result",
          "data": {
            "text/plain": [
              "Date\n",
              "2020-01-01    11.67\n",
              "2020-01-02    11.60\n",
              "2020-01-03    11.49\n",
              "2020-01-06    12.70\n",
              "2020-01-07    14.78\n",
              "              ...  \n",
              "2022-10-25    17.42\n",
              "2022-10-27    16.88\n",
              "2022-10-28    16.60\n",
              "2022-10-31    15.92\n",
              "2022-11-01    15.80\n",
              "Name: Open, Length: 706, dtype: float64"
            ]
          },
          "metadata": {},
          "execution_count": 107
        }
      ]
    },
    {
      "cell_type": "code",
      "source": [
        "import matplotlib.pyplot as plt"
      ],
      "metadata": {
        "id": "tJSPJgpN0Fag"
      },
      "execution_count": 108,
      "outputs": []
    },
    {
      "cell_type": "code",
      "source": [
        "\n",
        "plt.plot(cs)"
      ],
      "metadata": {
        "colab": {
          "base_uri": "https://localhost:8080/",
          "height": 283
        },
        "id": "HOeBLCYh0fmj",
        "outputId": "c74aa6da-74d5-4e5d-de4d-d4791ec54c9a"
      },
      "execution_count": 109,
      "outputs": [
        {
          "output_type": "execute_result",
          "data": {
            "text/plain": [
              "[<matplotlib.lines.Line2D at 0x7f99ad482430>]"
            ]
          },
          "metadata": {},
          "execution_count": 109
        },
        {
          "output_type": "display_data",
          "data": {
            "text/plain": [
              "<Figure size 432x288 with 1 Axes>"
            ],
            "image/png": "[encoded data removed]"
          },
          "metadata": {
            "needs_background": "light"
          }
        }
      ]
    },
    {
      "cell_type": "code",
      "source": [
        "from sklearn.preprocessing import MinMaxScaler"
      ],
      "metadata": {
        "id": "avEaZddw0jZl"
      },
      "execution_count": 110,
      "outputs": []
    },
    {
      "cell_type": "code",
      "source": [
        "normalizer = MinMaxScaler(feature_range = (0,1))\n",
        "scaled_cs = normalizer.fit_transform(np.array(cs).reshape(-1,1))"
      ],
      "metadata": {
        "id": "kVaMwYcU0z02"
      },
      "execution_count": 111,
      "outputs": []
    },
    {
      "cell_type": "code",
      "source": [
        "train_size = int(len(scaled_cs)*0.70)\n",
        "test_size  =  len(scaled_cs) - train_size"
      ],
      "metadata": {
        "id": "Uard_eA36CtG"
      },
      "execution_count": 112,
      "outputs": []
    },
    {
      "cell_type": "code",
      "source": [
        "strain , stest = scaled_cs[0:train_size,:] , scaled_cs[train_size:len(scaled_cs),:1]"
      ],
      "metadata": {
        "id": "g5K-X1hJ6mZJ"
      },
      "execution_count": 113,
      "outputs": []
    },
    {
      "cell_type": "code",
      "source": [
        "def create_ds(dataset,step):\n",
        "  Xtrain, Ytrain = [], []\n",
        "  for i in range(len(dataset)-step-1):\n",
        "    a = dataset[i:(i+step),0]\n",
        "    Xtrain.append(a)\n",
        "    Ytrain.append(dataset[i + step, 0])\n",
        "  return np.array(Xtrain) , np.array(Ytrain)\n"
      ],
      "metadata": {
        "id": "seRmpr6JLsoL"
      },
      "execution_count": 114,
      "outputs": []
    },
    {
      "cell_type": "code",
      "source": [
        "stepsize = 50\n",
        "X_train , Y_train = create_ds(strain , stepsize)\n",
        "X_test , Y_test = create_ds(stest , stepsize)\n"
      ],
      "metadata": {
        "id": "Go-6js3fNvPz"
      },
      "execution_count": 115,
      "outputs": []
    },
    {
      "cell_type": "code",
      "source": [
        "X_train.shape , Y_train.shape"
      ],
      "metadata": {
        "colab": {
          "base_uri": "https://localhost:8080/"
        },
        "id": "DwQR3RWwPudi",
        "outputId": "16d8577b-8e30-4d2b-df8a-b8c988705b91"
      },
      "execution_count": 116,
      "outputs": [
        {
          "output_type": "execute_result",
          "data": {
            "text/plain": [
              "((443, 50), (443,))"
            ]
          },
          "metadata": {},
          "execution_count": 116
        }
      ]
    },
    {
      "cell_type": "code",
      "source": [
        "X_test.shape , Y_test.shape"
      ],
      "metadata": {
        "colab": {
          "base_uri": "https://localhost:8080/"
        },
        "id": "Cirzz812Q3Uh",
        "outputId": "b4e56246-a3fd-42fd-eb65-2de74036e5f7"
      },
      "execution_count": 117,
      "outputs": [
        {
          "output_type": "execute_result",
          "data": {
            "text/plain": [
              "((161, 50), (161,))"
            ]
          },
          "metadata": {},
          "execution_count": 117
        }
      ]
    },
    {
      "cell_type": "code",
      "source": [
        "X_train = X_train.reshape(X_train.shape[0] , X_train.shape[1] , 1)\n",
        "X_test = X_test.reshape(X_test.shape[0] , X_test.shape[1] , 1)"
      ],
      "metadata": {
        "id": "NYnQIsSZRMYi"
      },
      "execution_count": 118,
      "outputs": []
    },
    {
      "cell_type": "code",
      "source": [
        "from keras.models import Sequential\n",
        "from keras.layers import Dense, LSTM"
      ],
      "metadata": {
        "id": "TIHydUshfvIU"
      },
      "execution_count": 119,
      "outputs": []
    },
    {
      "cell_type": "code",
      "source": [
        "model = Sequential()\n",
        "model.add(LSTM(units=50 , return_sequences = True , input_shape = (X_train.shape[1],1)))\n",
        "model.add(LSTM(units=50 , return_sequences = True))\n",
        "model.add(LSTM(units=50))\n",
        "model.add(Dense(units=1,activation ='linear'))\n",
        "model.summary()"
      ],
      "metadata": {
        "colab": {
          "base_uri": "https://localhost:8080/"
        },
        "id": "0slK-j3KgKFY",
        "outputId": "666c4be4-ffc0-42d1-f9ab-5a29304f177b"
      },
      "execution_count": 120,
      "outputs": [
        {
          "output_type": "stream",
          "name": "stdout",
          "text": [
            "Model: \"sequential_3\"\n",
            "_________________________________________________________________\n",
            " Layer (type)                Output Shape              Param #   \n",
            "=================================================================\n",
            " lstm_9 (LSTM)               (None, 50, 50)            10400     \n",
            "                                                                 \n",
            " lstm_10 (LSTM)              (None, 50, 50)            20200     \n",
            "                                                                 \n",
            " lstm_11 (LSTM)              (None, 50)                20200     \n",
            "                                                                 \n",
            " dense_3 (Dense)             (None, 1)                 51        \n",
            "                                                                 \n",
            "=================================================================\n",
            "Total params: 50,851\n",
            "Trainable params: 50,851\n",
            "Non-trainable params: 0\n",
            "_________________________________________________________________\n"
          ]
        }
      ]
    },
    {
      "cell_type": "code",
      "source": [
        "model.compile(loss = 'mean_squared_error' , optimizer = 'adam')\n",
        "model.fit(X_train , Y_train , validation_data = (X_test,Y_test) , epochs = 100 , batch_size = 64)"
      ],
      "metadata": {
        "colab": {
          "base_uri": "https://localhost:8080/"
        },
        "id": "531B4BqNm2DD",
        "outputId": "909f5bd4-2a8c-418e-bd22-9991320a2b30"
      },
      "execution_count": 121,
      "outputs": [
        {
          "output_type": "stream",
          "name": "stdout",
          "text": [
            "Epoch 1/100\n",
            "7/7 [==============================] - 9s 536ms/step - loss: 0.0409 - val_loss: 0.0137\n",
            "Epoch 2/100\n",
            "7/7 [==============================] - 1s 207ms/step - loss: 0.0136 - val_loss: 0.0022\n",
            "Epoch 3/100\n",
            "7/7 [==============================] - 2s 227ms/step - loss: 0.0110 - val_loss: 0.0030\n",
            "Epoch 4/100\n",
            "7/7 [==============================] - 2s 221ms/step - loss: 0.0091 - val_loss: 7.4859e-04\n",
            "Epoch 5/100\n",
            "7/7 [==============================] - 2s 219ms/step - loss: 0.0085 - val_loss: 7.3594e-04\n",
            "Epoch 6/100\n",
            "7/7 [==============================] - 2s 234ms/step - loss: 0.0076 - val_loss: 0.0013\n",
            "Epoch 7/100\n",
            "7/7 [==============================] - 2s 236ms/step - loss: 0.0069 - val_loss: 5.9925e-04\n",
            "Epoch 8/100\n",
            "7/7 [==============================] - 2s 232ms/step - loss: 0.0066 - val_loss: 0.0011\n",
            "Epoch 9/100\n",
            "7/7 [==============================] - 2s 208ms/step - loss: 0.0062 - val_loss: 5.5689e-04\n",
            "Epoch 10/100\n",
            "7/7 [==============================] - 2s 228ms/step - loss: 0.0057 - val_loss: 8.5323e-04\n",
            "Epoch 11/100\n",
            "7/7 [==============================] - 2s 230ms/step - loss: 0.0053 - val_loss: 4.6414e-04\n",
            "Epoch 12/100\n",
            "7/7 [==============================] - 1s 212ms/step - loss: 0.0050 - val_loss: 0.0011\n",
            "Epoch 13/100\n",
            "7/7 [==============================] - 2s 274ms/step - loss: 0.0047 - val_loss: 6.8336e-04\n",
            "Epoch 14/100\n",
            "7/7 [==============================] - 2s 236ms/step - loss: 0.0042 - val_loss: 8.0827e-04\n",
            "Epoch 15/100\n",
            "7/7 [==============================] - 1s 185ms/step - loss: 0.0041 - val_loss: 9.4559e-04\n",
            "Epoch 16/100\n",
            "7/7 [==============================] - 1s 115ms/step - loss: 0.0037 - val_loss: 4.5281e-04\n",
            "Epoch 17/100\n",
            "7/7 [==============================] - 1s 114ms/step - loss: 0.0034 - val_loss: 4.2024e-04\n",
            "Epoch 18/100\n",
            "7/7 [==============================] - 1s 113ms/step - loss: 0.0031 - val_loss: 6.6125e-04\n",
            "Epoch 19/100\n",
            "7/7 [==============================] - 1s 110ms/step - loss: 0.0030 - val_loss: 0.0011\n",
            "Epoch 20/100\n",
            "7/7 [==============================] - 1s 110ms/step - loss: 0.0026 - val_loss: 3.7510e-04\n",
            "Epoch 21/100\n",
            "7/7 [==============================] - 1s 117ms/step - loss: 0.0024 - val_loss: 3.7322e-04\n",
            "Epoch 22/100\n",
            "7/7 [==============================] - 1s 114ms/step - loss: 0.0023 - val_loss: 6.6655e-04\n",
            "Epoch 23/100\n",
            "7/7 [==============================] - 1s 114ms/step - loss: 0.0021 - val_loss: 6.0818e-04\n",
            "Epoch 24/100\n",
            "7/7 [==============================] - 1s 111ms/step - loss: 0.0020 - val_loss: 4.5419e-04\n",
            "Epoch 25/100\n",
            "7/7 [==============================] - 1s 114ms/step - loss: 0.0018 - val_loss: 4.4377e-04\n",
            "Epoch 26/100\n",
            "7/7 [==============================] - 1s 111ms/step - loss: 0.0019 - val_loss: 4.5933e-04\n",
            "Epoch 27/100\n",
            "7/7 [==============================] - 1s 114ms/step - loss: 0.0018 - val_loss: 5.6612e-04\n",
            "Epoch 28/100\n",
            "7/7 [==============================] - 1s 111ms/step - loss: 0.0016 - val_loss: 6.6428e-04\n",
            "Epoch 29/100\n",
            "7/7 [==============================] - 1s 110ms/step - loss: 0.0016 - val_loss: 8.0978e-04\n",
            "Epoch 30/100\n",
            "7/7 [==============================] - 1s 127ms/step - loss: 0.0015 - val_loss: 6.1997e-04\n",
            "Epoch 31/100\n",
            "7/7 [==============================] - 1s 161ms/step - loss: 0.0015 - val_loss: 5.7023e-04\n",
            "Epoch 32/100\n",
            "7/7 [==============================] - 1s 182ms/step - loss: 0.0014 - val_loss: 6.0087e-04\n",
            "Epoch 33/100\n",
            "7/7 [==============================] - 1s 154ms/step - loss: 0.0014 - val_loss: 7.4108e-04\n",
            "Epoch 34/100\n",
            "7/7 [==============================] - 1s 115ms/step - loss: 0.0014 - val_loss: 0.0010\n",
            "Epoch 35/100\n",
            "7/7 [==============================] - 1s 113ms/step - loss: 0.0016 - val_loss: 6.5241e-04\n",
            "Epoch 36/100\n",
            "7/7 [==============================] - 1s 113ms/step - loss: 0.0014 - val_loss: 5.1314e-04\n",
            "Epoch 37/100\n",
            "7/7 [==============================] - 1s 112ms/step - loss: 0.0014 - val_loss: 5.1726e-04\n",
            "Epoch 38/100\n",
            "7/7 [==============================] - 1s 114ms/step - loss: 0.0014 - val_loss: 5.4066e-04\n",
            "Epoch 39/100\n",
            "7/7 [==============================] - 1s 115ms/step - loss: 0.0014 - val_loss: 5.4211e-04\n",
            "Epoch 40/100\n",
            "7/7 [==============================] - 1s 116ms/step - loss: 0.0014 - val_loss: 5.0109e-04\n",
            "Epoch 41/100\n",
            "7/7 [==============================] - 1s 114ms/step - loss: 0.0016 - val_loss: 0.0012\n",
            "Epoch 42/100\n",
            "7/7 [==============================] - 1s 111ms/step - loss: 0.0015 - val_loss: 7.2108e-04\n",
            "Epoch 43/100\n",
            "7/7 [==============================] - 1s 112ms/step - loss: 0.0015 - val_loss: 0.0010\n",
            "Epoch 44/100\n",
            "7/7 [==============================] - 1s 118ms/step - loss: 0.0016 - val_loss: 8.7088e-04\n",
            "Epoch 45/100\n",
            "7/7 [==============================] - 1s 114ms/step - loss: 0.0015 - val_loss: 9.7620e-04\n",
            "Epoch 46/100\n",
            "7/7 [==============================] - 1s 112ms/step - loss: 0.0015 - val_loss: 0.0011\n",
            "Epoch 47/100\n",
            "7/7 [==============================] - 1s 115ms/step - loss: 0.0015 - val_loss: 5.9911e-04\n",
            "Epoch 48/100\n",
            "7/7 [==============================] - 1s 119ms/step - loss: 0.0014 - val_loss: 5.5283e-04\n",
            "Epoch 49/100\n",
            "7/7 [==============================] - 1s 115ms/step - loss: 0.0015 - val_loss: 5.7596e-04\n",
            "Epoch 50/100\n",
            "7/7 [==============================] - 1s 112ms/step - loss: 0.0017 - val_loss: 7.8128e-04\n",
            "Epoch 51/100\n",
            "7/7 [==============================] - 1s 117ms/step - loss: 0.0015 - val_loss: 4.7505e-04\n",
            "Epoch 52/100\n",
            "7/7 [==============================] - 1s 115ms/step - loss: 0.0014 - val_loss: 4.5384e-04\n",
            "Epoch 53/100\n",
            "7/7 [==============================] - 1s 113ms/step - loss: 0.0013 - val_loss: 4.2302e-04\n",
            "Epoch 54/100\n",
            "7/7 [==============================] - 1s 113ms/step - loss: 0.0013 - val_loss: 4.7368e-04\n",
            "Epoch 55/100\n",
            "7/7 [==============================] - 1s 113ms/step - loss: 0.0013 - val_loss: 4.3418e-04\n",
            "Epoch 56/100\n",
            "7/7 [==============================] - 1s 114ms/step - loss: 0.0015 - val_loss: 4.5242e-04\n",
            "Epoch 57/100\n",
            "7/7 [==============================] - 1s 115ms/step - loss: 0.0014 - val_loss: 5.8611e-04\n",
            "Epoch 58/100\n",
            "7/7 [==============================] - 1s 115ms/step - loss: 0.0013 - val_loss: 7.2208e-04\n",
            "Epoch 59/100\n",
            "7/7 [==============================] - 1s 114ms/step - loss: 0.0015 - val_loss: 8.4732e-04\n",
            "Epoch 60/100\n",
            "7/7 [==============================] - 1s 114ms/step - loss: 0.0015 - val_loss: 9.4417e-04\n",
            "Epoch 61/100\n",
            "7/7 [==============================] - 1s 114ms/step - loss: 0.0016 - val_loss: 9.3128e-04\n",
            "Epoch 62/100\n",
            "7/7 [==============================] - 1s 119ms/step - loss: 0.0015 - val_loss: 4.7435e-04\n",
            "Epoch 63/100\n",
            "7/7 [==============================] - 1s 113ms/step - loss: 0.0014 - val_loss: 4.9168e-04\n",
            "Epoch 64/100\n",
            "7/7 [==============================] - 1s 114ms/step - loss: 0.0013 - val_loss: 4.3353e-04\n",
            "Epoch 65/100\n",
            "7/7 [==============================] - 1s 114ms/step - loss: 0.0013 - val_loss: 4.0088e-04\n",
            "Epoch 66/100\n",
            "7/7 [==============================] - 1s 114ms/step - loss: 0.0012 - val_loss: 4.3450e-04\n",
            "Epoch 67/100\n",
            "7/7 [==============================] - 1s 112ms/step - loss: 0.0012 - val_loss: 4.0692e-04\n",
            "Epoch 68/100\n",
            "7/7 [==============================] - 1s 113ms/step - loss: 0.0012 - val_loss: 4.4254e-04\n",
            "Epoch 69/100\n",
            "7/7 [==============================] - 1s 121ms/step - loss: 0.0012 - val_loss: 4.7536e-04\n",
            "Epoch 70/100\n",
            "7/7 [==============================] - 1s 115ms/step - loss: 0.0012 - val_loss: 4.3466e-04\n",
            "Epoch 71/100\n",
            "7/7 [==============================] - 1s 120ms/step - loss: 0.0012 - val_loss: 3.8254e-04\n",
            "Epoch 72/100\n",
            "7/7 [==============================] - 1s 112ms/step - loss: 0.0012 - val_loss: 4.0515e-04\n",
            "Epoch 73/100\n",
            "7/7 [==============================] - 1s 114ms/step - loss: 0.0013 - val_loss: 4.0376e-04\n",
            "Epoch 74/100\n",
            "7/7 [==============================] - 1s 119ms/step - loss: 0.0013 - val_loss: 3.9330e-04\n",
            "Epoch 75/100\n",
            "7/7 [==============================] - 1s 119ms/step - loss: 0.0012 - val_loss: 4.1494e-04\n",
            "Epoch 76/100\n",
            "7/7 [==============================] - 1s 113ms/step - loss: 0.0012 - val_loss: 4.2065e-04\n",
            "Epoch 77/100\n",
            "7/7 [==============================] - 1s 111ms/step - loss: 0.0011 - val_loss: 3.9989e-04\n",
            "Epoch 78/100\n",
            "7/7 [==============================] - 1s 116ms/step - loss: 0.0012 - val_loss: 5.3670e-04\n",
            "Epoch 79/100\n",
            "7/7 [==============================] - 1s 116ms/step - loss: 0.0012 - val_loss: 4.1792e-04\n",
            "Epoch 80/100\n",
            "7/7 [==============================] - 1s 114ms/step - loss: 0.0011 - val_loss: 3.4506e-04\n",
            "Epoch 81/100\n",
            "7/7 [==============================] - 1s 112ms/step - loss: 0.0011 - val_loss: 3.3936e-04\n",
            "Epoch 82/100\n",
            "7/7 [==============================] - 1s 119ms/step - loss: 0.0011 - val_loss: 3.8024e-04\n",
            "Epoch 83/100\n",
            "7/7 [==============================] - 1s 115ms/step - loss: 0.0012 - val_loss: 3.5442e-04\n",
            "Epoch 84/100\n",
            "7/7 [==============================] - 1s 115ms/step - loss: 0.0012 - val_loss: 4.4349e-04\n",
            "Epoch 85/100\n",
            "7/7 [==============================] - 1s 113ms/step - loss: 0.0011 - val_loss: 4.8730e-04\n",
            "Epoch 86/100\n",
            "7/7 [==============================] - 1s 111ms/step - loss: 0.0012 - val_loss: 4.1421e-04\n",
            "Epoch 87/100\n",
            "7/7 [==============================] - 1s 113ms/step - loss: 0.0011 - val_loss: 3.5151e-04\n",
            "Epoch 88/100\n",
            "7/7 [==============================] - 1s 115ms/step - loss: 0.0011 - val_loss: 3.9114e-04\n",
            "Epoch 89/100\n",
            "7/7 [==============================] - 1s 118ms/step - loss: 0.0011 - val_loss: 4.5959e-04\n",
            "Epoch 90/100\n",
            "7/7 [==============================] - 1s 113ms/step - loss: 0.0012 - val_loss: 3.7301e-04\n",
            "Epoch 91/100\n",
            "7/7 [==============================] - 1s 114ms/step - loss: 0.0012 - val_loss: 3.3968e-04\n",
            "Epoch 92/100\n",
            "7/7 [==============================] - 1s 116ms/step - loss: 0.0013 - val_loss: 3.7688e-04\n",
            "Epoch 93/100\n",
            "7/7 [==============================] - 1s 114ms/step - loss: 0.0012 - val_loss: 3.8209e-04\n",
            "Epoch 94/100\n",
            "7/7 [==============================] - 1s 115ms/step - loss: 0.0013 - val_loss: 5.0230e-04\n",
            "Epoch 95/100\n",
            "7/7 [==============================] - 1s 114ms/step - loss: 0.0014 - val_loss: 7.1451e-04\n",
            "Epoch 96/100\n",
            "7/7 [==============================] - 1s 118ms/step - loss: 0.0014 - val_loss: 8.4381e-04\n",
            "Epoch 97/100\n",
            "7/7 [==============================] - 1s 115ms/step - loss: 0.0012 - val_loss: 3.5645e-04\n",
            "Epoch 98/100\n",
            "7/7 [==============================] - 1s 117ms/step - loss: 0.0012 - val_loss: 3.8556e-04\n",
            "Epoch 99/100\n",
            "7/7 [==============================] - 1s 120ms/step - loss: 0.0012 - val_loss: 3.9257e-04\n",
            "Epoch 100/100\n",
            "7/7 [==============================] - 1s 115ms/step - loss: 0.0012 - val_loss: 3.6757e-04\n"
          ]
        },
        {
          "output_type": "execute_result",
          "data": {
            "text/plain": [
              "<keras.callbacks.History at 0x7f99ad3659d0>"
            ]
          },
          "metadata": {},
          "execution_count": 121
        }
      ]
    },
    {
      "cell_type": "code",
      "source": [
        "loss = model.history.history['loss']\n",
        "plt.plot(loss)"
      ],
      "metadata": {
        "colab": {
          "base_uri": "https://localhost:8080/",
          "height": 283
        },
        "id": "_jVOfVP7ntI3",
        "outputId": "0f32a1e0-20c6-4ab8-c8ca-e79a7bdd589d"
      },
      "execution_count": 122,
      "outputs": [
        {
          "output_type": "execute_result",
          "data": {
            "text/plain": [
              "[<matplotlib.lines.Line2D at 0x7f99aad6cd60>]"
            ]
          },
          "metadata": {},
          "execution_count": 122
        },
        {
          "output_type": "display_data",
          "data": {
            "text/plain": [
              "<Figure size 432x288 with 1 Axes>"
            ],
            "image/png": "[encoded data removed]"
          },
          "metadata": {
            "needs_background": "light"
          }
        }
      ]
    },
    {
      "cell_type": "code",
      "source": [
        "train_predict = model.predict(X_train) \n",
        "test_predict = model.predict(X_test)"
      ],
      "metadata": {
        "colab": {
          "base_uri": "https://localhost:8080/"
        },
        "id": "X4Y1IQyvoXWi",
        "outputId": "53bc4cf9-717f-40c3-b91d-ee6c38f62a63"
      },
      "execution_count": 123,
      "outputs": [
        {
          "output_type": "stream",
          "name": "stdout",
          "text": [
            "14/14 [==============================] - 2s 21ms/step\n",
            "6/6 [==============================] - 0s 19ms/step\n"
          ]
        }
      ]
    },
    {
      "cell_type": "code",
      "source": [
        "train_predict = normalizer.inverse_transform(train_predict)\n",
        "test_predict = normalizer.inverse_transform(test_predict)"
      ],
      "metadata": {
        "id": "H_bye2cfonLC"
      },
      "execution_count": 124,
      "outputs": []
    },
    {
      "cell_type": "code",
      "source": [
        "plt.plot(normalizer.inverse_transform(scaled_cs))\n",
        "plt.plot(train_predict)\n",
        "plt.plot(test_predict)"
      ],
      "metadata": {
        "colab": {
          "base_uri": "https://localhost:8080/",
          "height": 283
        },
        "id": "gRDWQSlppGCW",
        "outputId": "275dcd28-d952-4cf9-ee59-d748b72c8015"
      },
      "execution_count": 125,
      "outputs": [
        {
          "output_type": "execute_result",
          "data": {
            "text/plain": [
              "[<matplotlib.lines.Line2D at 0x7f99ad39b9a0>]"
            ]
          },
          "metadata": {},
          "execution_count": 125
        },
        {
          "output_type": "display_data",
          "data": {
            "text/plain": [
              "<Figure size 432x288 with 1 Axes>"
            ],
            "image/png": "[encoded data removed]"
          },
          "metadata": {
            "needs_background": "light"
          }
        }
      ]
    },
    {
      "cell_type": "code",
      "source": [
        "test = np.vstack((train_predict,test_predict))\n"
      ],
      "metadata": {
        "id": "ZcNSWDnApc-9"
      },
      "execution_count": 126,
      "outputs": []
    },
    {
      "cell_type": "code",
      "source": [
        "plt.plot(normalizer.inverse_transform(scaled_cs))\n",
        "plt.plot(test)"
      ],
      "metadata": {
        "colab": {
          "base_uri": "https://localhost:8080/",
          "height": 283
        },
        "id": "5Liw7NES54ib",
        "outputId": "089881cc-f0b3-4881-da1c-89f05254a19c"
      },
      "execution_count": 127,
      "outputs": [
        {
          "output_type": "execute_result",
          "data": {
            "text/plain": [
              "[<matplotlib.lines.Line2D at 0x7f99abaf5c10>]"
            ]
          },
          "metadata": {},
          "execution_count": 127
        },
        {
          "output_type": "display_data",
          "data": {
            "text/plain": [
              "<Figure size 432x288 with 1 Axes>"
            ],
            "image/png": "[encoded data removed]"
          },
          "metadata": {
            "needs_background": "light"
          }
        }
      ]
    },
    {
      "cell_type": "code",
      "source": [
        "len(stest)"
      ],
      "metadata": {
        "colab": {
          "base_uri": "https://localhost:8080/"
        },
        "id": "qx3sU6zz8e7_",
        "outputId": "530ed746-da23-480d-88e9-7a085fc43146"
      },
      "execution_count": 128,
      "outputs": [
        {
          "output_type": "execute_result",
          "data": {
            "text/plain": [
              "212"
            ]
          },
          "metadata": {},
          "execution_count": 128
        }
      ]
    },
    {
      "cell_type": "code",
      "source": [
        "futinp = stest[112:]\n",
        "futinp = futinp.reshape(1,-1)\n",
        "tmpinp = list(futinp)\n",
        "futinp.shape"
      ],
      "metadata": {
        "colab": {
          "base_uri": "https://localhost:8080/"
        },
        "id": "QVcf7JKU9Pwx",
        "outputId": "a9b64ebd-7881-440d-f8d3-d356b726de97"
      },
      "execution_count": 129,
      "outputs": [
        {
          "output_type": "execute_result",
          "data": {
            "text/plain": [
              "(1, 100)"
            ]
          },
          "metadata": {},
          "execution_count": 129
        }
      ]
    },
    {
      "cell_type": "code",
      "source": [
        "tmpinp = tmpinp[0].tolist()"
      ],
      "metadata": {
        "id": "SAAPDAju_ytO"
      },
      "execution_count": 130,
      "outputs": []
    },
    {
      "cell_type": "code",
      "source": [
        "last_output = []\n",
        "nsteps = 100\n",
        "i = 0\n",
        "while(i<10):\n",
        "  if(len(tmpinp)>100):\n",
        "    futinp = np.array(tmpinp[1:])\n",
        "    futinp = futinp.reshape(1,-1)\n",
        "    futinp = futinp.reshape((1,nsteps,1))\n",
        "    yhat = model.predict(futinp , verbose=0)\n",
        "    tmpinp.extend(yhat[0].tolist())\n",
        "    tmpinp = tmpinp[1:]\n",
        "    last_output.extend(yhat.tolist())\n",
        "    i+=1\n",
        "  else:\n",
        "    futinp = futinp.reshape((1,nsteps,1))\n",
        "    yhat = model.predict(futinp , verbose=0)\n",
        "    tmpinp.extend(yhat[0].tolist())\n",
        "    last_output.extend(yhat.tolist())\n",
        "    i+=1\n",
        "\n",
        "print(last_output)\n",
        "\n",
        "\n",
        "\n"
      ],
      "metadata": {
        "colab": {
          "base_uri": "https://localhost:8080/"
        },
        "id": "hW3JXKyW_95V",
        "outputId": "bf154b4c-41a1-494e-ec1c-97554d710e37"
      },
      "execution_count": 131,
      "outputs": [
        {
          "output_type": "stream",
          "name": "stdout",
          "text": [
            "[[0.19537527859210968], [0.1927104890346527], [0.1907845139503479], [0.18942274153232574], [0.18843577802181244], [0.18767838180065155], [0.1870582103729248], [0.1865251362323761], [0.18605631589889526], [0.18564404547214508]]\n"
          ]
        }
      ]
    },
    {
      "cell_type": "code",
      "source": [
        "len(scaled_cs)"
      ],
      "metadata": {
        "colab": {
          "base_uri": "https://localhost:8080/"
        },
        "id": "GcgvyZu9Gm-P",
        "outputId": "987738d5-d1fd-44ae-dc76-b0fc027f0f78"
      },
      "execution_count": 132,
      "outputs": [
        {
          "output_type": "execute_result",
          "data": {
            "text/plain": [
              "706"
            ]
          },
          "metadata": {},
          "execution_count": 132
        }
      ]
    },
    {
      "cell_type": "code",
      "source": [
        "newplot = np.arange(1,101)\n",
        "predplot = np.arange(101,111)"
      ],
      "metadata": {
        "id": "XeiSQDEmGxqr"
      },
      "execution_count": 133,
      "outputs": []
    },
    {
      "cell_type": "code",
      "source": [
        "plt.plot(newplot,normalizer.inverse_transform(scaled_cs[606:]))\n",
        "plt.plot(predplot,normalizer.inverse_transform(last_output))"
      ],
      "metadata": {
        "colab": {
          "base_uri": "https://localhost:8080/",
          "height": 283
        },
        "id": "5g0AP6A8HMs3",
        "outputId": "7e168630-cce7-436c-ddab-9fff0c4c1a7d"
      },
      "execution_count": 134,
      "outputs": [
        {
          "output_type": "execute_result",
          "data": {
            "text/plain": [
              "[<matplotlib.lines.Line2D at 0x7f99ab9b1280>]"
            ]
          },
          "metadata": {},
          "execution_count": 134
        },
        {
          "output_type": "display_data",
          "data": {
            "text/plain": [
              "<Figure size 432x288 with 1 Axes>"
            ],
            "image/png": "[encoded data removed]"
          },
          "metadata": {
            "needs_background": "light"
          }
        }
      ]
    },
    {
      "cell_type": "code",
      "source": [
        " clnew = scaled_cs.tolist()\n",
        " \n"
      ],
      "metadata": {
        "id": "eAGL5F0aHr3j"
      },
      "execution_count": 135,
      "outputs": []
    },
    {
      "cell_type": "code",
      "source": [
        "len(clnew)"
      ],
      "metadata": {
        "colab": {
          "base_uri": "https://localhost:8080/"
        },
        "id": "rK-edVdPTSth",
        "outputId": "a6a584dc-af5c-4517-cbcb-c20c342c70e1"
      },
      "execution_count": 136,
      "outputs": [
        {
          "output_type": "execute_result",
          "data": {
            "text/plain": [
              "706"
            ]
          },
          "metadata": {},
          "execution_count": 136
        }
      ]
    },
    {
      "cell_type": "code",
      "source": [
        "clnew.extend(last_output)\n",
        "plt.plot(clnew[696:])"
      ],
      "metadata": {
        "colab": {
          "base_uri": "https://localhost:8080/",
          "height": 283
        },
        "id": "2AiS2TCMTWoZ",
        "outputId": "4c4e3f11-8d68-464d-f71c-afad64b9fc6e"
      },
      "execution_count": 137,
      "outputs": [
        {
          "output_type": "execute_result",
          "data": {
            "text/plain": [
              "[<matplotlib.lines.Line2D at 0x7f99ad388820>]"
            ]
          },
          "metadata": {},
          "execution_count": 137
        },
        {
          "output_type": "display_data",
          "data": {
            "text/plain": [
              "<Figure size 432x288 with 1 Axes>"
            ],
            "image/png": "[encoded data removed]"
          },
          "metadata": {
            "needs_background": "light"
          }
        }
      ]
    },
    {
      "cell_type": "code",
      "source": [
        "finalg = normalizer.inverse_transform(clnew).tolist()"
      ],
      "metadata": {
        "id": "dHZBIwfLTjMH"
      },
      "execution_count": 138,
      "outputs": []
    },
    {
      "cell_type": "code",
      "source": [
        "plt.plot(finalg)\n",
        "plt.ylabel(\"Vindex\")\n",
        "plt.xlabel(\"time\")\n",
        "plt.title(\"prediction for next 10 days open\".format('VIX'))\n",
        "plt.axhline(y=finalg[len(finalg)-1],color = 'red' , linestyle = \":\" , label = 'next 10 days'.format(round(float(*finalg[len(finalg)-1]),2)))\n",
        "plt.legend()"
      ],
      "metadata": {
        "colab": {
          "base_uri": "https://localhost:8080/",
          "height": 313
        },
        "id": "FWLIdMWNT0_U",
        "outputId": "b04a7986-6710-4ba3-844d-6c1321a5c0ba"
      },
      "execution_count": 139,
      "outputs": [
        {
          "output_type": "execute_result",
          "data": {
            "text/plain": [
              "<matplotlib.legend.Legend at 0x7f99a95de250>"
            ]
          },
          "metadata": {},
          "execution_count": 139
        },
        {
          "output_type": "display_data",
          "data": {
            "text/plain": [
              "<Figure size 432x288 with 1 Axes>"
            ],
            "image/png": "[encoded data removed]"
          },
          "metadata": {
            "needs_background": "light"
          }
        }
      ]
    },
    {
      "cell_type": "code",
      "source": [],
      "metadata": {
        "id": "GUcbPqIOWdKO"
      },
      "execution_count": 139,
      "outputs": []
    }
  ]
}